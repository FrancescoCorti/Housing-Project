{
 "cells": [
  {
   "cell_type": "code",
   "execution_count": 2,
   "id": "7305d448",
   "metadata": {},
   "outputs": [],
   "source": [
    "import pandas as pd\n",
    "import numpy as np\n",
    "import glob\n",
    "import os\n",
    "import hashlib\n",
    "import matplotlib.pyplot as plt\n",
    "import seaborn as sns"
   ]
  },
  {
   "cell_type": "markdown",
   "id": "465c1fd6",
   "metadata": {},
   "source": [
    "Collecting CSV files"
   ]
  },
  {
   "cell_type": "code",
   "execution_count": 3,
   "id": "c3dcdfd6",
   "metadata": {},
   "outputs": [],
   "source": [
    "folder = \"C:/Users/HP/Desktop/Traineeship/data_OMI/values\"\n",
    "\n",
    "# Grab all CSV files\n",
    "all_files = glob.glob(os.path.join(folder, \"*.csv\"))"
   ]
  },
  {
   "cell_type": "markdown",
   "id": "08352b35",
   "metadata": {},
   "source": [
    "Assigning a unique ID for each listing"
   ]
  },
  {
   "cell_type": "code",
   "execution_count": 4,
   "id": "eae749c5",
   "metadata": {},
   "outputs": [],
   "source": [
    "# Define columns that should uniquely identify a listing \n",
    "id_columns = [\n",
    "    'Prov', 'Comune_ISTAT', 'Comune_descrizione', 'Fascia', 'Zona', 'Descr_Tipologia', 'Stato'\n",
    "]\n",
    "\n",
    "dfs = []\n",
    "\n",
    "for f in all_files:\n",
    "    # Extract filename without extension\n",
    "    filename = os.path.splitext(os.path.basename(f))[0]\n",
    "    \n",
    "    # Extract semester code\n",
    "    parts = filename.split(\"_\")\n",
    "    semester_code = parts[-2]  # second to last part\n",
    "    year = semester_code[:4]\n",
    "    sem = semester_code[4]\n",
    "    semester = f\"{year}_S{sem}\"\n",
    "    \n",
    "    # Read CSV, skip first title line\n",
    "    df = pd.read_csv(f, sep=';', skiprows=1)\n",
    "    \n",
    "    # Strip whitespace and remove BOM from column names\n",
    "    df.columns = df.columns.str.strip().str.replace('\\ufeff','')\n",
    "    \n",
    "    # Hash concatenated string\n",
    "    df['listing_id'] = pd.util.hash_pandas_object(df[id_columns].fillna(''), index=False).astype(str)\n",
    "\n",
    "    # Add semester column\n",
    "    df['semester'] = semester\n",
    "    \n",
    "    # Convert numeric columns to numeric type\n",
    "    numeric_cols = ['Compr_min', 'Compr_max', 'Loc_min', 'Loc_max']\n",
    "\n",
    "    for col in numeric_cols:\n",
    "        if col in df.columns:\n",
    "            df[col] = pd.to_numeric(df[col].astype(str).str.replace(',', '.', regex=False), errors='coerce')\n",
    "    \n",
    "    dfs.append(df)"
   ]
  },
  {
   "cell_type": "markdown",
   "id": "17788b00",
   "metadata": {},
   "source": [
    "Merging datasets"
   ]
  },
  {
   "cell_type": "code",
   "execution_count": 5,
   "id": "f735bcc3",
   "metadata": {},
   "outputs": [
    {
     "name": "stdout",
     "output_type": "stream",
     "text": [
      "<class 'pandas.core.frame.DataFrame'>\n",
      "RangeIndex: 7201300 entries, 0 to 7201299\n",
      "Data columns (total 24 columns):\n",
      " #   Column              Dtype  \n",
      "---  ------              -----  \n",
      " 0   Area_territoriale   object \n",
      " 1   Regione             object \n",
      " 2   Prov                object \n",
      " 3   Comune_ISTAT        float64\n",
      " 4   Comune_cat          object \n",
      " 5   Sez                 object \n",
      " 6   Comune_amm          object \n",
      " 7   Comune_descrizione  object \n",
      " 8   Fascia              object \n",
      " 9   Zona                object \n",
      " 10  LinkZona            object \n",
      " 11  Cod_Tip             int64  \n",
      " 12  Descr_Tipologia     object \n",
      " 13  Stato               object \n",
      " 14  Stato_prev          object \n",
      " 15  Compr_min           float64\n",
      " 16  Compr_max           float64\n",
      " 17  Sup_NL_compr        object \n",
      " 18  Loc_min             float64\n",
      " 19  Loc_max             float64\n",
      " 20  Sup_NL_loc          object \n",
      " 21  Unnamed: 21         float64\n",
      " 22  listing_id          object \n",
      " 23  semester            object \n",
      "dtypes: float64(6), int64(1), object(17)\n",
      "memory usage: 1.3+ GB\n"
     ]
    }
   ],
   "source": [
    "# Combine all data into one long-format DataFrame\n",
    "long_df = pd.concat(dfs, ignore_index=True)\n",
    "\n",
    "long_df.head()\n",
    "\n",
    "long_df.info()"
   ]
  },
  {
   "cell_type": "markdown",
   "id": "33a800e9",
   "metadata": {},
   "source": [
    "Translating"
   ]
  },
  {
   "cell_type": "code",
   "execution_count": 6,
   "id": "400c0b25",
   "metadata": {},
   "outputs": [
    {
     "name": "stdout",
     "output_type": "stream",
     "text": [
      "<class 'pandas.core.frame.DataFrame'>\n",
      "RangeIndex: 7201300 entries, 0 to 7201299\n",
      "Data columns (total 24 columns):\n",
      " #   Column        Dtype  \n",
      "---  ------        -----  \n",
      " 0   area          object \n",
      " 1   region        object \n",
      " 2   prov          object \n",
      " 3   mun_istat     float64\n",
      " 4   mun_cat       object \n",
      " 5   Sez           object \n",
      " 6   mun_cad       object \n",
      " 7   mun_name      object \n",
      " 8   sector        object \n",
      " 9   zone          object \n",
      " 10  zone_link     object \n",
      " 11  Cod_Tip       int64  \n",
      " 12  type          object \n",
      " 13  condition     object \n",
      " 14  Stato_prev    object \n",
      " 15  buy_min       float64\n",
      " 16  buy_max       float64\n",
      " 17  Sup_NL_compr  object \n",
      " 18  lease_min     float64\n",
      " 19  lease_max     float64\n",
      " 20  Sup_NL_loc    object \n",
      " 21  Unnamed: 21   float64\n",
      " 22  listing_id    object \n",
      " 23  semester      object \n",
      "dtypes: float64(6), int64(1), object(17)\n",
      "memory usage: 1.3+ GB\n"
     ]
    }
   ],
   "source": [
    "column_renames = {\n",
    "    \"Area_territoriale\": \"area\",\n",
    "    \"Regione\": \"region\",\n",
    "    \"Prov\": \"prov\",\n",
    "    \"Comune_ISTAT\": \"mun_istat\",\n",
    "    \"Comune_cat\": \"mun_cat\",\n",
    "    \"Comune_amm\": \"mun_cad\",\n",
    "    \"Comune_descrizione\": \"mun_name\",\n",
    "    \"Fascia\": \"sector\",\n",
    "    \"Zona\": \"zone\",\n",
    "    \"LinkZona\": \"zone_link\",\n",
    "    \"Descr_Tipologia\": \"type\",\n",
    "    \"Stato\": \"condition\",\n",
    "    \"Compr_min\": \"buy_min\",\n",
    "    \"Compr_max\": \"buy_max\",\n",
    "    \"Loc_min\": \"lease_min\",\n",
    "    \"Loc_max\": \"lease_max\"\n",
    "}\n",
    "\n",
    "long_df = long_df.rename(columns=column_renames)\n",
    "\n",
    "# Apply value mappings\n",
    "long_df[\"area\"] = long_df[\"area\"].replace({\n",
    "    \"NORD-OVEST\": \"NW\",\n",
    "    \"NORD-EST\": \"NE\",\n",
    "    \"CENTRO\": \"C\",\n",
    "    \"ISOLE\": \"I\",\n",
    "    \"SUD\": \"S\"\n",
    "})\n",
    "\n",
    "long_df[\"type\"] = long_df[\"type\"].replace({\n",
    "    \"Abitazioni civili\": \"residential housing\",\n",
    "    \"Box\": \"garage\",\n",
    "    \"Ville e Villini\": \"independent houses and villas\",\n",
    "    \"Negozi\": \"shops\",\n",
    "    \"Abitazioni di tipo economico\": \"lowcost housing\",\n",
    "    \"Magazzini\": \"warehouses\",\n",
    "    \"Uffici\": \"offices\",\n",
    "    \"Laboratori\": \"laboratories\",\n",
    "    \"Capannoni tipici\": \"typical industrial buildings\",\n",
    "    \"Capannoni industriali\": \"industrial buildings\",\n",
    "    \"Autorimesse\": \"garages\",\n",
    "    \"Posti auto scoperti\": \"uncovered parking spaces\",\n",
    "    \"Posti auto coperti\": \"covered parking spaces\",\n",
    "    \"Centri commerciali\": \"shopping centers\",\n",
    "    \"Uffici strutturati\": \"structured offices\",\n",
    "    \"Abitazioni tipiche dei luoghi\": \"typical local housing\",\n",
    "    \"Abitazioni signorili\": \"luxury housing\",\n",
    "    \"Pensioni e assimilati\": \"guesthouses and similar\",\n",
    "    \"Fabbricati e locali per esercizi sportivi\": \"sports facilities\"\n",
    "})\n",
    "\n",
    "long_df[\"condition\"] = long_df[\"condition\"].replace({\n",
    "    \"NORMALE\": \"normal\",\n",
    "    \"OTTIMO\": \"excellent\",\n",
    "    \"SCADENTE\": \"poor\"\n",
    "})\n",
    "\n",
    "long_df.info()"
   ]
  },
  {
   "cell_type": "markdown",
   "id": "4e54f063",
   "metadata": {},
   "source": [
    "Deleting useless columns"
   ]
  },
  {
   "cell_type": "code",
   "execution_count": 7,
   "id": "470feb24",
   "metadata": {},
   "outputs": [],
   "source": [
    "columns = ['Sez', 'Stato_prev', 'Sup_NL_compr', 'Sup_NL_loc', 'Unnamed: 21']\n",
    "\n",
    "long_df = long_df.drop(columns=columns)"
   ]
  },
  {
   "cell_type": "markdown",
   "id": "3737d10d",
   "metadata": {},
   "source": [
    "Ordering variables"
   ]
  },
  {
   "cell_type": "code",
   "execution_count": 12,
   "id": "4b6b07cc",
   "metadata": {},
   "outputs": [
    {
     "name": "stdout",
     "output_type": "stream",
     "text": [
      "<class 'pandas.core.frame.DataFrame'>\n",
      "Index: 7200542 entries, 0 to 7201299\n",
      "Data columns (total 18 columns):\n",
      " #   Column      Dtype  \n",
      "---  ------      -----  \n",
      " 0   listing_id  object \n",
      " 1   semester    object \n",
      " 2   zone_link   object \n",
      " 3   location    object \n",
      " 4   region      object \n",
      " 5   prov        object \n",
      " 6   mun_istat   float64\n",
      " 7   mun_cat     object \n",
      " 8   mun_cad     object \n",
      " 9   mun_name    object \n",
      " 10  sector      object \n",
      " 11  zone        object \n",
      " 12  type        object \n",
      " 13  condition   object \n",
      " 14  buy_min     float64\n",
      " 15  buy_max     float64\n",
      " 16  lease_min   float64\n",
      " 17  lease_max   float64\n",
      "dtypes: float64(5), object(13)\n",
      "memory usage: 1.0+ GB\n"
     ]
    }
   ],
   "source": [
    "new_order = [\n",
    "    \"listing_id\", \"semester\", \"zone_link\", \"area\", \"region\", \"prov\", \"mun_istat\", \"mun_cat\", \"mun_cad\", \n",
    "    \"mun_name\", \"sector\", \"zone\", \"type\", \"condition\", \"buy_min\", \"buy_max\", \"lease_min\", \"lease_max\"\n",
    "]\n",
    "\n",
    "long_df = long_df[new_order]\n",
    "\n",
    "long_df.rename(columns={'area': 'location'}, inplace=True)\n",
    "\n",
    "long_df.info()"
   ]
  },
  {
   "cell_type": "markdown",
   "id": "13958d75",
   "metadata": {},
   "source": [
    "Checking IDs"
   ]
  },
  {
   "cell_type": "code",
   "execution_count": 9,
   "id": "b2d7bc98",
   "metadata": {},
   "outputs": [
    {
     "name": "stdout",
     "output_type": "stream",
     "text": [
      "Number of unique listings: 522240\n",
      "Number of duplicate listings for the same semester: 1430\n",
      "Number of rows after removing duplicates: 7200542\n"
     ]
    }
   ],
   "source": [
    "# Number of unique listings\n",
    "print(\"Number of unique listings:\", long_df['listing_id'].nunique())\n",
    "\n",
    "# Number of duplicate listings for the same semester\n",
    "duplicates = long_df.duplicated(subset=['listing_id', 'semester'], keep=False)\n",
    "print(\"Number of duplicate listings for the same semester:\", duplicates.sum())\n",
    "\n",
    "# Delete duplicate listings for the same semester, keeping the first occurrence\n",
    "long_df = long_df.drop_duplicates(subset=['listing_id', 'semester'], keep='first')\n",
    "\n",
    "print('Number of rows after removing duplicates:', len(long_df))"
   ]
  },
  {
   "cell_type": "code",
   "execution_count": null,
   "id": "4ba14642",
   "metadata": {},
   "outputs": [],
   "source": [
    "long_df.to_csv('C:/Users/HP/Desktop/Traineeship/Code/datasets/italian_real_estate_data.csv', sep=',', index=False, encoding='utf-8-sig')"
   ]
  }
 ],
 "metadata": {
  "kernelspec": {
   "display_name": ".venv_housing (3.11.9)",
   "language": "python",
   "name": "python3"
  },
  "language_info": {
   "codemirror_mode": {
    "name": "ipython",
    "version": 3
   },
   "file_extension": ".py",
   "mimetype": "text/x-python",
   "name": "python",
   "nbconvert_exporter": "python",
   "pygments_lexer": "ipython3",
   "version": "3.11.9"
  }
 },
 "nbformat": 4,
 "nbformat_minor": 5
}
