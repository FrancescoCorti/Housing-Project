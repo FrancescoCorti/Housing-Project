{
 "cells": [
  {
   "cell_type": "code",
   "execution_count": 37,
   "id": "b52a35fe",
   "metadata": {},
   "outputs": [],
   "source": [
    "import pandas as pd"
   ]
  },
  {
   "cell_type": "code",
   "execution_count": 38,
   "id": "8260039b",
   "metadata": {},
   "outputs": [
    {
     "name": "stdout",
     "output_type": "stream",
     "text": [
      "<class 'pandas.core.frame.DataFrame'>\n",
      "RangeIndex: 7926 entries, 0 to 7925\n",
      "Data columns (total 10 columns):\n",
      " #   Column    Non-Null Count  Dtype \n",
      "---  ------    --------------  ----- \n",
      " 0   region    7926 non-null   object\n",
      " 1   prov      7926 non-null   object\n",
      " 2   mun_name  7925 non-null   object\n",
      " 3   cat_code  7926 non-null   object\n",
      " 4   cat_prev  7926 non-null   object\n",
      " 5   cat_list  2208 non-null   object\n",
      " 6   D         6222 non-null   object\n",
      " 7   P         6222 non-null   object\n",
      " 8   T         6222 non-null   object\n",
      " 9   S         6222 non-null   object\n",
      "dtypes: object(10)\n",
      "memory usage: 619.3+ KB\n"
     ]
    }
   ],
   "source": [
    "df = pd.read_csv('C:/Users/HP/Desktop/Traineeship/data_OMI/tourist_class_mun.csv', encoding='latin1', usecols=lambda col: not col.startswith('Unnamed'))\n",
    "\n",
    "df.info()"
   ]
  },
  {
   "cell_type": "code",
   "execution_count": 39,
   "id": "a61de2ba",
   "metadata": {},
   "outputs": [
    {
     "name": "stdout",
     "output_type": "stream",
     "text": [
      "Unique values in cat_code: ['P' 'E' 'H' 'B' 'Q' 'C' 'L1' 'G' 'F' 'L2' 'A' 'D']\n",
      "Unique values in cat_prev: ['Comuni turistici non appartenenti ad una categoria specifica'\n",
      " 'Comuni con vocazione montana'\n",
      " 'Comuni a vocazione montana e con vocazione culturale, storica, artistica e paesaggistica'\n",
      " 'Comuni a vocazione culturale, storica, artistica e paesaggistica'\n",
      " 'Comuni non turistici' 'Comuni con vocazione marittima'\n",
      " 'Comuni a vocazione culturale, storica, artistica e paesaggistica e altre vocazioni'\n",
      " 'Comuni a vocazione marittima e con vocazione culturale, storica, artistica e paesaggistica'\n",
      " 'Comuni del turismo termale' 'Altri comuni turistici con due vocazioni'\n",
      " 'Grandi città (con turismo multidimensionale)'\n",
      " 'Comuni del turismo lacuale']\n",
      "Unique values in cat_list: [nan 'montana' 'montana, culturale' 'culturale' 'marittima'\n",
      " 'culturale, montana, termale' 'marittima, culturale' 'termale'\n",
      " 'culturale, termale' 'marittima, termale' 'marittima, montana'\n",
      " 'culturale, marittima, termale' 'culturale, marittima' 'lacuale'\n",
      " 'culturale, lacuale' 'culturale, lacuale, termale' 'montana, lacuale'\n",
      " 'culturale, marittima, lacuale' 'montana, termale'\n",
      " 'culturale, montana, lacuale' 'culturale, marittima, montana'\n",
      " 'marittima, lacuale' 'culturale, montana, lacuale, termale'\n",
      " 'lacuale, termale']\n"
     ]
    }
   ],
   "source": [
    "columns = ['cat_code', 'cat_prev', 'cat_list']\n",
    "\n",
    "for col in columns:\n",
    "    print(f'Unique values in {col}: {df[col].unique()}')"
   ]
  },
  {
   "cell_type": "code",
   "execution_count": 40,
   "id": "ce3969b6",
   "metadata": {},
   "outputs": [],
   "source": [
    "# Dropping 'cat_prev' (expressed by 'cat_code')\n",
    "df1 = df.drop(columns=['cat_prev'])"
   ]
  },
  {
   "cell_type": "code",
   "execution_count": 41,
   "id": "d1d22744",
   "metadata": {},
   "outputs": [],
   "source": [
    "# Translate 'cat_list'\n",
    "rename_dict = {\n",
    "    'culturale': 'cultural',\n",
    "    'marittima': 'sea',\n",
    "    'montana': 'mountain',\n",
    "    'termale': 'thermal',\n",
    "    'lacuale': 'lake'\n",
    "}\n",
    "\n",
    "# Apply the renaming\n",
    "def translate_multi_label(s):\n",
    "    if pd.isna(s) or s == \"\":\n",
    "        return \"\"\n",
    "    return ', '.join(rename_dict.get(x.strip(), x.strip()) for x in s.split(','))\n",
    "\n",
    "df1['cat_list'] = df1['cat_list'].apply(translate_multi_label)"
   ]
  },
  {
   "cell_type": "code",
   "execution_count": 42,
   "id": "9aa87a3a",
   "metadata": {},
   "outputs": [],
   "source": [
    "# Get dummies names from 'cat_list'\n",
    "df_dummies = df1['cat_list'].str.get_dummies(sep=\", \")\n",
    "\n",
    "# Merge back into original dataframe\n",
    "df1 = df1.join(df_dummies)"
   ]
  },
  {
   "cell_type": "code",
   "execution_count": 43,
   "id": "9ea46c85",
   "metadata": {},
   "outputs": [
    {
     "name": "stdout",
     "output_type": "stream",
     "text": [
      "Province names in df1['prov'] but not in mapping: []\n"
     ]
    }
   ],
   "source": [
    "province_map = {\n",
    "    'AG': 'AGRIGENTO', 'AL': 'ALESSANDRIA', 'AN': 'ANCONA', 'AO': \"VALLE D'AOSTA/VALLÉE D'AOSTE\",\n",
    "    'AR': 'AREZZO', 'AP': 'ASCOLI PICENO', 'AT': 'ASTI', 'AV': 'AVELLINO',\n",
    "    'BA': 'BARI', 'BT': 'BARLETTA-ANDRIA-TRANI', 'BL': 'BELLUNO', 'BN': 'BENEVENTO',\n",
    "    'BG': 'BERGAMO', 'BI': 'BIELLA', 'BO': 'BOLOGNA', 'BZ': 'BOLZANO/BOZEN',\n",
    "    'BS': 'BRESCIA', 'BR': 'BRINDISI', 'CA': 'CAGLIARI', 'CB': 'CAMPOBASSO',\n",
    "    'CE': 'CASERTA', 'CH': 'CHIETI', 'CL': 'CALTANISSETTA', 'CN': 'CUNEO',\n",
    "    'CO': 'COMO', 'CR': 'CREMONA', 'CS': 'COSENZA', 'CT': 'CATANIA', 'CZ': 'CATANZARO',\n",
    "    'EN': 'ENNA', 'FC': \"FORLI'-CESENA\", 'FE': 'FERRARA', 'FI': 'FIRENZE', 'FG': 'FOGGIA',\n",
    "    'FR': 'FROSINONE', 'GE': 'GENOVA', 'GO': 'GORIZIA', 'GR': 'GROSSETO', 'IM': 'IMPERIA',\n",
    "    'IS': 'ISERNIA', 'SP': 'LA SPEZIA', 'LT': 'LATINA', 'LE': 'LECCE', 'LC': 'LECCO',\n",
    "    'LI': 'LIVORNO', 'LO': 'LODI', 'LU': 'LUCCA', 'MC': 'MACERATA', 'MN': 'MANTOVA',\n",
    "    'MS': 'MASSA-CARRARA', 'MT': 'MATERA', 'ME': 'MESSINA', 'MI': 'MILANO', 'MO': 'MODENA',\n",
    "    'MB': 'MONZA E BRIANZA', 'NA': 'NAPOLI', 'NO': 'NOVARA', 'NU': 'NUORO', 'OR': 'ORISTANO',\n",
    "    'PD': 'PADOVA', 'PA': 'PALERMO', 'PR': 'PARMA', 'PV': 'PAVIA', 'PG': 'PERUGIA',\n",
    "    'PU': 'PESARO E URBINO', 'PE': 'PESCARA', 'PC': 'PIACENZA', 'PI': 'PISA', 'PT': 'PISTOIA',\n",
    "    'PN': 'PORDENONE', 'PZ': 'POTENZA', 'PO': 'PRATO', 'RG': 'RAGUSA', 'RA': 'RAVENNA',\n",
    "    'RC': 'REGGIO DI CALABRIA', 'RE': \"REGGIO NELL'EMILIA\", 'RI': 'RIETI', 'RN': 'RIMINI',\n",
    "    'RM': 'ROMA', 'RO': 'ROVIGO', 'SA': 'SALERNO', 'SS': 'SASSARI', 'SV': 'SAVONA',\n",
    "    'SI': 'SIENA', 'SR': 'SIRACUSA', 'SO': 'SONDRIO', 'TA': 'TARANTO', 'TE': 'TERAMO',\n",
    "    'TR': 'TERNI', 'TO': 'TORINO', 'TP': 'TRAPANI', 'TN': 'TRENTO', 'TV': 'TREVISO',\n",
    "    'TS': 'TRIESTE', 'UD': 'UDINE', 'VA': 'VARESE', 'VE': 'VENEZIA', 'VB': 'VERBANO-CUSIO-OSSOLA',\n",
    "    'VC': 'VERCELLI', 'VR': 'VERONA', 'VI': 'VICENZA', 'VV': 'VIBO VALENTIA', 'VT': 'VITERBO',\n",
    "    'AQ': \"L'AQUILA\", 'SU': 'SUD SARDEGNA', 'KR': 'CROTONE', 'FM': 'FERMO'\n",
    "}\n",
    "names_missing = [name for name in df1['prov'].unique() if name not in province_map.values()]\n",
    "\n",
    "print(\"Province names in df1['prov'] but not in mapping:\", names_missing)"
   ]
  },
  {
   "cell_type": "code",
   "execution_count": 44,
   "id": "24cd5052",
   "metadata": {},
   "outputs": [],
   "source": [
    "# Reverse mapping: province name -> code\n",
    "name_to_code = {name: code for code, name in province_map.items()}\n",
    "\n",
    "# Apply it to your DataFrame column\n",
    "df1['prov_code'] = df1['prov'].map(name_to_code)"
   ]
  },
  {
   "cell_type": "code",
   "execution_count": 45,
   "id": "d8dfccc6",
   "metadata": {},
   "outputs": [],
   "source": [
    "# Encoding 'D','P','T','S'\n",
    "\n",
    "columns = ['D','P','T','S']\n",
    "\n",
    "for c in columns:\n",
    "    df1[c] = pd.to_numeric(df1[c].str[1:], errors='coerce').astype('Int64').fillna(0)"
   ]
  },
  {
   "cell_type": "code",
   "execution_count": 46,
   "id": "f11febe9",
   "metadata": {},
   "outputs": [
    {
     "data": {
      "text/html": [
       "<div>\n",
       "<style scoped>\n",
       "    .dataframe tbody tr th:only-of-type {\n",
       "        vertical-align: middle;\n",
       "    }\n",
       "\n",
       "    .dataframe tbody tr th {\n",
       "        vertical-align: top;\n",
       "    }\n",
       "\n",
       "    .dataframe thead th {\n",
       "        text-align: right;\n",
       "    }\n",
       "</style>\n",
       "<table border=\"1\" class=\"dataframe\">\n",
       "  <thead>\n",
       "    <tr style=\"text-align: right;\">\n",
       "      <th></th>\n",
       "      <th>region</th>\n",
       "      <th>prov_code</th>\n",
       "      <th>mun_name</th>\n",
       "      <th>cat_code</th>\n",
       "      <th>cultural</th>\n",
       "      <th>lake</th>\n",
       "      <th>mountain</th>\n",
       "      <th>sea</th>\n",
       "      <th>thermal</th>\n",
       "      <th>cat_list</th>\n",
       "      <th>infrastructures</th>\n",
       "      <th>flows</th>\n",
       "      <th>economy</th>\n",
       "      <th>summary</th>\n",
       "    </tr>\n",
       "  </thead>\n",
       "  <tbody>\n",
       "    <tr>\n",
       "      <th>0</th>\n",
       "      <td>ABRUZZO</td>\n",
       "      <td>AQ</td>\n",
       "      <td>Acciano</td>\n",
       "      <td>P</td>\n",
       "      <td>0</td>\n",
       "      <td>0</td>\n",
       "      <td>0</td>\n",
       "      <td>0</td>\n",
       "      <td>0</td>\n",
       "      <td></td>\n",
       "      <td>5</td>\n",
       "      <td>1</td>\n",
       "      <td>4</td>\n",
       "      <td>2</td>\n",
       "    </tr>\n",
       "    <tr>\n",
       "      <th>1</th>\n",
       "      <td>ABRUZZO</td>\n",
       "      <td>AQ</td>\n",
       "      <td>Aielli</td>\n",
       "      <td>E</td>\n",
       "      <td>0</td>\n",
       "      <td>0</td>\n",
       "      <td>1</td>\n",
       "      <td>0</td>\n",
       "      <td>0</td>\n",
       "      <td>mountain</td>\n",
       "      <td>4</td>\n",
       "      <td>4</td>\n",
       "      <td>4</td>\n",
       "      <td>4</td>\n",
       "    </tr>\n",
       "    <tr>\n",
       "      <th>2</th>\n",
       "      <td>ABRUZZO</td>\n",
       "      <td>AQ</td>\n",
       "      <td>Alfedena</td>\n",
       "      <td>H</td>\n",
       "      <td>1</td>\n",
       "      <td>0</td>\n",
       "      <td>1</td>\n",
       "      <td>0</td>\n",
       "      <td>0</td>\n",
       "      <td>mountain, cultural</td>\n",
       "      <td>4</td>\n",
       "      <td>2</td>\n",
       "      <td>4</td>\n",
       "      <td>3</td>\n",
       "    </tr>\n",
       "    <tr>\n",
       "      <th>3</th>\n",
       "      <td>ABRUZZO</td>\n",
       "      <td>AQ</td>\n",
       "      <td>Anversa degli Abruzzi</td>\n",
       "      <td>H</td>\n",
       "      <td>1</td>\n",
       "      <td>0</td>\n",
       "      <td>1</td>\n",
       "      <td>0</td>\n",
       "      <td>0</td>\n",
       "      <td>mountain, cultural</td>\n",
       "      <td>4</td>\n",
       "      <td>2</td>\n",
       "      <td>5</td>\n",
       "      <td>5</td>\n",
       "    </tr>\n",
       "    <tr>\n",
       "      <th>4</th>\n",
       "      <td>ABRUZZO</td>\n",
       "      <td>AQ</td>\n",
       "      <td>Ateleta</td>\n",
       "      <td>E</td>\n",
       "      <td>0</td>\n",
       "      <td>0</td>\n",
       "      <td>1</td>\n",
       "      <td>0</td>\n",
       "      <td>0</td>\n",
       "      <td>mountain</td>\n",
       "      <td>2</td>\n",
       "      <td>2</td>\n",
       "      <td>4</td>\n",
       "      <td>2</td>\n",
       "    </tr>\n",
       "  </tbody>\n",
       "</table>\n",
       "</div>"
      ],
      "text/plain": [
       "    region prov_code               mun_name cat_code  cultural  lake  \\\n",
       "0  ABRUZZO        AQ                Acciano        P         0     0   \n",
       "1  ABRUZZO        AQ                 Aielli        E         0     0   \n",
       "2  ABRUZZO        AQ               Alfedena        H         1     0   \n",
       "3  ABRUZZO        AQ  Anversa degli Abruzzi        H         1     0   \n",
       "4  ABRUZZO        AQ                Ateleta        E         0     0   \n",
       "\n",
       "   mountain  sea  thermal            cat_list  infrastructures  flows  \\\n",
       "0         0    0        0                                    5      1   \n",
       "1         1    0        0            mountain                4      4   \n",
       "2         1    0        0  mountain, cultural                4      2   \n",
       "3         1    0        0  mountain, cultural                4      2   \n",
       "4         1    0        0            mountain                2      2   \n",
       "\n",
       "   economy  summary  \n",
       "0        4        2  \n",
       "1        4        4  \n",
       "2        4        3  \n",
       "3        5        5  \n",
       "4        4        2  "
      ]
     },
     "execution_count": 46,
     "metadata": {},
     "output_type": "execute_result"
    }
   ],
   "source": [
    "new_order = [\n",
    "    'region', 'prov_code', 'mun_name', 'cat_code', 'cultural', 'lake', 'mountain', 'sea', 'thermal', 'cat_list', 'D', 'P', 'T', 'S'\n",
    "    ]\n",
    "\n",
    "df1 = df1[new_order]\n",
    "\n",
    "dict = {\n",
    "    'D': 'infrastructures',\n",
    "    'P': 'flows',\n",
    "    'T': 'economy',\n",
    "    'S': 'summary'\n",
    "}\n",
    "\n",
    "df1 = df1.rename(columns = dict)\n",
    "\n",
    "df1.head()"
   ]
  },
  {
   "cell_type": "code",
   "execution_count": 47,
   "id": "435fff0e",
   "metadata": {},
   "outputs": [],
   "source": [
    "df1.to_csv('datasets/tourist_data.csv')"
   ]
  }
 ],
 "metadata": {
  "kernelspec": {
   "display_name": ".venv_housing (3.11.9)",
   "language": "python",
   "name": "python3"
  },
  "language_info": {
   "codemirror_mode": {
    "name": "ipython",
    "version": 3
   },
   "file_extension": ".py",
   "mimetype": "text/x-python",
   "name": "python",
   "nbconvert_exporter": "python",
   "pygments_lexer": "ipython3",
   "version": "3.11.9"
  }
 },
 "nbformat": 4,
 "nbformat_minor": 5
}
