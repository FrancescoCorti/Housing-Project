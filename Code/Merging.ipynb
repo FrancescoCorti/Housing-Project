{
 "cells": [
  {
   "cell_type": "code",
   "execution_count": 7,
   "id": "caeaf3cd",
   "metadata": {},
   "outputs": [],
   "source": [
    "import pandas as pd\n",
    "import glob\n",
    "import os\n",
    "import hashlib"
   ]
  },
  {
   "cell_type": "markdown",
   "id": "3bf4f972",
   "metadata": {},
   "source": [
    "Collecting CSV files"
   ]
  },
  {
   "cell_type": "code",
   "execution_count": 8,
   "id": "6c4d4637",
   "metadata": {},
   "outputs": [],
   "source": [
    "folder = \"C:/Users/HP/Desktop/Traineeship/data_istat/values\"\n",
    "\n",
    "# Grab all CSV files\n",
    "all_files = glob.glob(os.path.join(folder, \"*.csv\"))"
   ]
  },
  {
   "cell_type": "markdown",
   "id": "4d046043",
   "metadata": {},
   "source": [
    "Definition of unique ID"
   ]
  },
  {
   "cell_type": "code",
   "execution_count": 9,
   "id": "0becad6a",
   "metadata": {},
   "outputs": [],
   "source": [
    "# Define columns that should uniquely identify a building (!!!!!!!!!!!!!!!!!)\n",
    "id_columns = [\n",
    "    'Regione', 'Prov', 'Comune_ISTAT', 'Comune_cat', 'Sez', \n",
    "    'Comune_amm', 'Comune_descrizione', 'Fascia', 'Zona', \n",
    "    'Sup_NL_compr', 'Sup_NL_loc', 'Descr_Tipologia'\n",
    "]\n",
    "\n",
    "# Function to create a unique building ID\n",
    "def make_building_id(row):\n",
    "    s = \"_\".join([str(row.get(col, '')) for col in id_columns])\n",
    "    return hashlib.md5(s.encode()).hexdigest()"
   ]
  },
  {
   "cell_type": "markdown",
   "id": "c9866e86",
   "metadata": {},
   "source": [
    "Extracting and cleaning file names (to define semesters) and assigning a unique ID to each building"
   ]
  },
  {
   "cell_type": "code",
   "execution_count": 10,
   "id": "55a25636",
   "metadata": {},
   "outputs": [],
   "source": [
    "dfs = []\n",
    "\n",
    "for f in all_files:\n",
    "    # Extract filename without extension\n",
    "    filename = os.path.splitext(os.path.basename(f))[0]\n",
    "    \n",
    "    # Extract semester code\n",
    "    parts = filename.split(\"_\")\n",
    "    semester_code = parts[-2]  # second to last part\n",
    "    year = semester_code[:4]\n",
    "    sem = semester_code[4]\n",
    "    semester = f\"{year}_S{sem}\"\n",
    "    \n",
    "    # Read CSV, skip first title line\n",
    "    df = pd.read_csv(f, sep=';', skiprows=1)\n",
    "    \n",
    "    # Strip whitespace and remove BOM from column names\n",
    "    df.columns = df.columns.str.strip().str.replace('\\ufeff','')\n",
    "    \n",
    "    # Keep only columns that exist in this CSV\n",
    "    existing_id_cols = [col for col in id_columns if col in df.columns]\n",
    "    if not existing_id_cols:\n",
    "        raise ValueError(f\"No ID columns found in {f}! Columns in file: {df.columns.tolist()}\")\n",
    "    \n",
    "    # Concatenate static columns for building_id\n",
    "    df['building_id'] = (\n",
    "        df[existing_id_cols]\n",
    "        .fillna('')\n",
    "        .astype(str)\n",
    "        .agg('_'.join, axis=1)\n",
    "    )\n",
    "    \n",
    "    # Hash concatenated string\n",
    "    df['building_id'] = df['building_id'].apply(lambda x: hashlib.md5(x.encode()).hexdigest())\n",
    "    \n",
    "    # Add semester column\n",
    "    df['semester'] = semester\n",
    "    \n",
    "    # Convert numeric columns safely\n",
    "    numeric_cols = ['Loc_min', 'Loc_max', 'Compr_min', 'Compr_max', 'Sup_NL_compr', 'Sup_NL_loc']\n",
    "    for col in numeric_cols:\n",
    "        if col in df.columns:\n",
    "            df[col] = (\n",
    "                df[col]\n",
    "                .astype(str)\n",
    "                .str.replace(',', '.', regex=False)\n",
    "            )\n",
    "            df[col] = pd.to_numeric(df[col], errors='coerce')\n",
    "    \n",
    "    dfs.append(df)\n",
    "\n"
   ]
  },
  {
   "cell_type": "markdown",
   "id": "45056429",
   "metadata": {},
   "source": [
    "Merging datasets"
   ]
  },
  {
   "cell_type": "code",
   "execution_count": 11,
   "id": "b7237400",
   "metadata": {},
   "outputs": [
    {
     "name": "stdout",
     "output_type": "stream",
     "text": [
      "  Area_territoriale   Regione Prov  Comune_ISTAT Comune_cat Sez Comune_amm  \\\n",
      "0        NORD-OVEST  PIEMONTE   AL     1006003.0       A2AA           A182   \n",
      "1        NORD-OVEST  PIEMONTE   AL     1006003.0       A2AA           A182   \n",
      "2        NORD-OVEST  PIEMONTE   AL     1006003.0       A2AA           A182   \n",
      "3        NORD-OVEST  PIEMONTE   AL     1006003.0       A2AA           A182   \n",
      "4        NORD-OVEST  PIEMONTE   AL     1006003.0       A2AA           A182   \n",
      "\n",
      "  Comune_descrizione Fascia Zona  ... Stato_prev  Compr_min Compr_max  \\\n",
      "0        ALESSANDRIA      B   B1  ...                1110.0    1670.0   \n",
      "1        ALESSANDRIA      B   B1  ...                1010.0    1520.0   \n",
      "2        ALESSANDRIA      B   B1  ...                 610.0     840.0   \n",
      "3        ALESSANDRIA      B   B1  ...                 490.0     660.0   \n",
      "4        ALESSANDRIA      B   B1  ...                1180.0    1410.0   \n",
      "\n",
      "  Sup_NL_compr Loc_min  Loc_max  Sup_NL_loc  Unnamed: 21  \\\n",
      "0          NaN     3.7      5.6         NaN          NaN   \n",
      "1          NaN     4.3      6.4         NaN          NaN   \n",
      "2          NaN     2.5      3.5         NaN          NaN   \n",
      "3          NaN     2.0      2.7         NaN          NaN   \n",
      "4          NaN     5.4      6.5         NaN          NaN   \n",
      "\n",
      "                        building_id  semester  \n",
      "0  49ae6c3b9210e9ce483b3da239404b03   2004_S1  \n",
      "1  b8a6d49c00cfccc9945c9682af6e2ce7   2004_S1  \n",
      "2  49909caa3d2f6b911f4d96a7e8f513c8   2004_S1  \n",
      "3  d639e80a8bea8be09100d806553fd506   2004_S1  \n",
      "4  0c6e3981bfe25e19524f2ba2426291b4   2004_S1  \n",
      "\n",
      "[5 rows x 24 columns]\n"
     ]
    }
   ],
   "source": [
    "# Combine all data into one long-format DataFrame\n",
    "long_df = pd.concat(dfs, ignore_index=True)\n",
    "\n",
    "print(long_df.head())"
   ]
  },
  {
   "cell_type": "markdown",
   "id": "032d1f0e",
   "metadata": {},
   "source": [
    "Deleting duplicates and saving long_df as merged_real_estate.csv"
   ]
  },
  {
   "cell_type": "code",
   "execution_count": 12,
   "id": "f62c14a7",
   "metadata": {},
   "outputs": [
    {
     "name": "stdout",
     "output_type": "stream",
     "text": [
      "Total number of rows in the combined dataset: 7201300\n",
      "Number of duplicate entries: 499664\n",
      "Expected final dimension after removing duplicates: 6701636\n",
      "Final dimension after removing duplicates: 6701636\n"
     ]
    }
   ],
   "source": [
    "# Check the number of rows in the combined dataset\n",
    "num_rows = len(long_df)\n",
    "print(f\"Total number of rows in the combined dataset: {num_rows}\")\n",
    "\n",
    "# Check for duplicates on building_id and semester\n",
    "duplicates_count = long_df.duplicated(subset=['building_id', 'semester']).sum()\n",
    "print(f\"Number of duplicate entries: {duplicates_count}\")\n",
    "\n",
    "exp_final_dimension = num_rows - duplicates_count\n",
    "print(f\"Expected final dimension after removing duplicates: {exp_final_dimension}\")\n",
    "\n",
    "# Remove duplicates\n",
    "long_df = long_df.drop_duplicates(subset=['building_id', 'semester'])\n",
    "final_dimension = len(long_df)\n",
    "print(f\"Final dimension after removing duplicates: {final_dimension}\")"
   ]
  },
  {
   "cell_type": "markdown",
   "id": "e2b1d7b7",
   "metadata": {},
   "source": [
    "Saving the dataset"
   ]
  },
  {
   "cell_type": "code",
   "execution_count": 13,
   "id": "a0f9016c",
   "metadata": {},
   "outputs": [],
   "source": [
    "long_df.to_csv('C:/Users/HP/Desktop/Traineeship/Code/merged_real_estate.csv', sep=',', index=False, encoding='utf-8-sig')"
   ]
  }
 ],
 "metadata": {
  "kernelspec": {
   "display_name": ".venv_housing (3.11.9)",
   "language": "python",
   "name": "python3"
  },
  "language_info": {
   "codemirror_mode": {
    "name": "ipython",
    "version": 3
   },
   "file_extension": ".py",
   "mimetype": "text/x-python",
   "name": "python",
   "nbconvert_exporter": "python",
   "pygments_lexer": "ipython3",
   "version": "3.11.9"
  }
 },
 "nbformat": 4,
 "nbformat_minor": 5
}
